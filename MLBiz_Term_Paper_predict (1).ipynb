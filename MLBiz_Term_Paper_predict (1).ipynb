{
 "cells": [
  {
   "cell_type": "markdown",
   "metadata": {},
   "source": [
    "_**Проверка работоспособности и качества пайплайна**_"
   ]
  },
  {
   "cell_type": "code",
   "execution_count": 1,
   "metadata": {},
   "outputs": [
    {
     "name": "stderr",
     "output_type": "stream",
     "text": [
      "C:\\Users\\alxz\\anaconda3\\lib\\site-packages\\sklearn\\utils\\deprecation.py:143: FutureWarning: The sklearn.metrics.scorer module is  deprecated in version 0.22 and will be removed in version 0.24. The corresponding classes / functions should instead be imported from sklearn.metrics. Anything that cannot be imported from sklearn.metrics is now part of the private API.\n",
      "  warnings.warn(message, FutureWarning)\n"
     ]
    }
   ],
   "source": [
    "import numpy as np\n",
    "import pandas as pd\n",
    "import dill\n",
    "from sklearn.metrics import roc_auc_score,roc_curve,scorer\n",
    "\n",
    "import matplotlib.pyplot as plt\n",
    "import seaborn as sns\n",
    "from sklearn.compose import ColumnTransformer\n",
    "from sklearn.pipeline import Pipeline\n",
    "from sklearn.impute import SimpleImputer\n",
    "from sklearn.preprocessing import StandardScaler, OneHotEncoder\n",
    "from sklearn.linear_model import LogisticRegression\n",
    "from sklearn.model_selection import train_test_split\n",
    "\n",
    "np.random.seed(0)\n",
    "\n",
    "import warnings\n",
    "warnings.filterwarnings('ignore')\n",
    "%matplotlib inline"
   ]
  },
  {
   "cell_type": "code",
   "execution_count": 2,
   "metadata": {},
   "outputs": [],
   "source": [
    "dill._dill._reverse_typemap['ClassType'] = type"
   ]
  },
  {
   "cell_type": "code",
   "execution_count": 3,
   "metadata": {},
   "outputs": [],
   "source": [
    "X_test = pd.read_csv(\"E:/GB/MLBiz/Term_paper/X_test.csv\")\n",
    "y_test = pd.read_csv(\"E:/GB/MLBiz/Term_paper/y_test.csv\")"
   ]
  },
  {
   "cell_type": "code",
   "execution_count": 4,
   "metadata": {},
   "outputs": [
    {
     "data": {
      "text/html": [
       "<div>\n",
       "<style scoped>\n",
       "    .dataframe tbody tr th:only-of-type {\n",
       "        vertical-align: middle;\n",
       "    }\n",
       "\n",
       "    .dataframe tbody tr th {\n",
       "        vertical-align: top;\n",
       "    }\n",
       "\n",
       "    .dataframe thead th {\n",
       "        text-align: right;\n",
       "    }\n",
       "</style>\n",
       "<table border=\"1\" class=\"dataframe\">\n",
       "  <thead>\n",
       "    <tr style=\"text-align: right;\">\n",
       "      <th></th>\n",
       "      <th>SE1</th>\n",
       "      <th>SE2</th>\n",
       "      <th>BA1</th>\n",
       "      <th>BA2</th>\n",
       "      <th>BA3</th>\n",
       "      <th>BA4</th>\n",
       "      <th>BA5</th>\n",
       "      <th>BA6</th>\n",
       "      <th>BA7</th>\n",
       "      <th>PE1</th>\n",
       "      <th>...</th>\n",
       "      <th>PE10</th>\n",
       "      <th>PE11</th>\n",
       "      <th>PE12</th>\n",
       "      <th>PE13</th>\n",
       "      <th>PE14</th>\n",
       "      <th>PE15</th>\n",
       "      <th>IA1</th>\n",
       "      <th>IA2</th>\n",
       "      <th>IA3</th>\n",
       "      <th>InvType</th>\n",
       "    </tr>\n",
       "  </thead>\n",
       "  <tbody>\n",
       "    <tr>\n",
       "      <th>0</th>\n",
       "      <td>38</td>\n",
       "      <td>G42</td>\n",
       "      <td>4</td>\n",
       "      <td>0.0</td>\n",
       "      <td>13954</td>\n",
       "      <td>693165</td>\n",
       "      <td>320709</td>\n",
       "      <td>168973</td>\n",
       "      <td>16779</td>\n",
       "      <td>I0</td>\n",
       "      <td>...</td>\n",
       "      <td>I1</td>\n",
       "      <td>I1</td>\n",
       "      <td>I1</td>\n",
       "      <td>I1</td>\n",
       "      <td>I1</td>\n",
       "      <td>I0</td>\n",
       "      <td>0</td>\n",
       "      <td>0</td>\n",
       "      <td>1</td>\n",
       "      <td>C1</td>\n",
       "    </tr>\n",
       "    <tr>\n",
       "      <th>1</th>\n",
       "      <td>36</td>\n",
       "      <td>G20</td>\n",
       "      <td>10</td>\n",
       "      <td>0.0</td>\n",
       "      <td>7617</td>\n",
       "      <td>212777</td>\n",
       "      <td>12432</td>\n",
       "      <td>0</td>\n",
       "      <td>12225</td>\n",
       "      <td>I0</td>\n",
       "      <td>...</td>\n",
       "      <td>I0</td>\n",
       "      <td>I0</td>\n",
       "      <td>I0</td>\n",
       "      <td>I1</td>\n",
       "      <td>I0</td>\n",
       "      <td>I0</td>\n",
       "      <td>0</td>\n",
       "      <td>0</td>\n",
       "      <td>2</td>\n",
       "      <td>C1</td>\n",
       "    </tr>\n",
       "    <tr>\n",
       "      <th>2</th>\n",
       "      <td>55</td>\n",
       "      <td>G90</td>\n",
       "      <td>26</td>\n",
       "      <td>0.0</td>\n",
       "      <td>775876</td>\n",
       "      <td>1433174</td>\n",
       "      <td>1212806</td>\n",
       "      <td>285670</td>\n",
       "      <td>1108718</td>\n",
       "      <td>I1</td>\n",
       "      <td>...</td>\n",
       "      <td>I1</td>\n",
       "      <td>I1</td>\n",
       "      <td>I1</td>\n",
       "      <td>I0</td>\n",
       "      <td>I0</td>\n",
       "      <td>I0</td>\n",
       "      <td>0</td>\n",
       "      <td>0</td>\n",
       "      <td>0</td>\n",
       "      <td>C1</td>\n",
       "    </tr>\n",
       "    <tr>\n",
       "      <th>3</th>\n",
       "      <td>43</td>\n",
       "      <td>G52</td>\n",
       "      <td>20</td>\n",
       "      <td>0.0</td>\n",
       "      <td>58680</td>\n",
       "      <td>995206</td>\n",
       "      <td>1377260</td>\n",
       "      <td>1991958</td>\n",
       "      <td>547659</td>\n",
       "      <td>I1</td>\n",
       "      <td>...</td>\n",
       "      <td>I1</td>\n",
       "      <td>I1</td>\n",
       "      <td>I1</td>\n",
       "      <td>I1</td>\n",
       "      <td>I0</td>\n",
       "      <td>I0</td>\n",
       "      <td>0</td>\n",
       "      <td>0</td>\n",
       "      <td>1</td>\n",
       "      <td>C1</td>\n",
       "    </tr>\n",
       "    <tr>\n",
       "      <th>4</th>\n",
       "      <td>50</td>\n",
       "      <td>G44</td>\n",
       "      <td>0</td>\n",
       "      <td>0.0</td>\n",
       "      <td>7169</td>\n",
       "      <td>2569</td>\n",
       "      <td>2569</td>\n",
       "      <td>0</td>\n",
       "      <td>2569</td>\n",
       "      <td>I0</td>\n",
       "      <td>...</td>\n",
       "      <td>I0</td>\n",
       "      <td>I0</td>\n",
       "      <td>I0</td>\n",
       "      <td>I0</td>\n",
       "      <td>I0</td>\n",
       "      <td>I0</td>\n",
       "      <td>0</td>\n",
       "      <td>0</td>\n",
       "      <td>0</td>\n",
       "      <td>C1</td>\n",
       "    </tr>\n",
       "  </tbody>\n",
       "</table>\n",
       "<p>5 rows × 28 columns</p>\n",
       "</div>"
      ],
      "text/plain": [
       "   SE1  SE2  BA1  BA2     BA3      BA4      BA5      BA6      BA7 PE1  ...  \\\n",
       "0   38  G42    4  0.0   13954   693165   320709   168973    16779  I0  ...   \n",
       "1   36  G20   10  0.0    7617   212777    12432        0    12225  I0  ...   \n",
       "2   55  G90   26  0.0  775876  1433174  1212806   285670  1108718  I1  ...   \n",
       "3   43  G52   20  0.0   58680   995206  1377260  1991958   547659  I1  ...   \n",
       "4   50  G44    0  0.0    7169     2569     2569        0     2569  I0  ...   \n",
       "\n",
       "  PE10 PE11 PE12 PE13 PE14 PE15 IA1 IA2 IA3 InvType  \n",
       "0   I1   I1   I1   I1   I1   I0   0   0   1      C1  \n",
       "1   I0   I0   I0   I1   I0   I0   0   0   2      C1  \n",
       "2   I1   I1   I1   I0   I0   I0   0   0   0      C1  \n",
       "3   I1   I1   I1   I1   I0   I0   0   0   1      C1  \n",
       "4   I0   I0   I0   I0   I0   I0   0   0   0      C1  \n",
       "\n",
       "[5 rows x 28 columns]"
      ]
     },
     "execution_count": 4,
     "metadata": {},
     "output_type": "execute_result"
    }
   ],
   "source": [
    "X_test.head()"
   ]
  },
  {
   "cell_type": "code",
   "execution_count": 5,
   "metadata": {},
   "outputs": [],
   "source": [
    "with open('E:/GB/MLBiz/Term_paper/logreg_pipeline.dill', 'rb') as in_strm:\n",
    "    clf = dill.load(in_strm)"
   ]
  },
  {
   "cell_type": "code",
   "execution_count": 7,
   "metadata": {},
   "outputs": [],
   "source": [
    "pred = clf.predict_proba(X_test.iloc[:500])\n",
    "pd.DataFrame({'preds': pred[:, 1]}).to_csv(\"E:/GB/MLBiz/Term_paper/test_predictions.csv\", index=None)"
   ]
  },
  {
   "cell_type": "code",
   "execution_count": 8,
   "metadata": {},
   "outputs": [
    {
     "data": {
      "text/plain": [
       "0.702264905962385"
      ]
     },
     "execution_count": 8,
     "metadata": {},
     "output_type": "execute_result"
    }
   ],
   "source": [
    "roc_auc_score(y_score=pred[:, 1][:], y_true=y_test.iloc[:500])"
   ]
  }
 ],
 "metadata": {
  "kernelspec": {
   "display_name": "Python 3",
   "language": "python",
   "name": "python3"
  },
  "language_info": {
   "codemirror_mode": {
    "name": "ipython",
    "version": 3
   },
   "file_extension": ".py",
   "mimetype": "text/x-python",
   "name": "python",
   "nbconvert_exporter": "python",
   "pygments_lexer": "ipython3",
   "version": "3.8.5"
  }
 },
 "nbformat": 4,
 "nbformat_minor": 1
}
