{
 "cells": [
  {
   "cell_type": "markdown",
   "metadata": {},
   "source": [
    "Датасет 'investing_program_prediction_data.csv' (https://www.kaggle.com/snassimr/data-for-investing-type-prediction/code). Данные были собраны в рамках реального проекта с целью предсказать, какую инвестиционную программу предложить клиенту инвестиционного банка. Банк решил, что будет очень полезно заранее спрогнозировать какой тип инвестиционной программы может подойти клиенту, а не пытаться предлагать все продукты подряд конкретному клиенту."
   ]
  },
  {
   "cell_type": "code",
   "execution_count": 1,
   "metadata": {},
   "outputs": [],
   "source": [
    "import numpy as np\n",
    "import pandas as pd\n",
    "import dill\n",
    "import matplotlib.pyplot as plt\n",
    "import seaborn as sns\n",
    "from sklearn.compose import ColumnTransformer\n",
    "from sklearn.pipeline import Pipeline\n",
    "from sklearn.impute import SimpleImputer\n",
    "from sklearn.preprocessing import StandardScaler, OneHotEncoder\n",
    "from sklearn.linear_model import LogisticRegression\n",
    "from sklearn.model_selection import train_test_split\n",
    "\n",
    "np.random.seed(0)\n",
    "\n",
    "import warnings\n",
    "warnings.filterwarnings('ignore')\n",
    "%matplotlib inline"
   ]
  },
  {
   "cell_type": "code",
   "execution_count": 2,
   "metadata": {},
   "outputs": [],
   "source": [
    "df = pd.read_csv(\"E:/GB/MLBiz/Term_paper/investing_program_prediction_data.csv\")"
   ]
  },
  {
   "cell_type": "markdown",
   "metadata": {},
   "source": [
    "_**EDA и feature engineering**_"
   ]
  },
  {
   "cell_type": "code",
   "execution_count": 3,
   "metadata": {},
   "outputs": [
    {
     "name": "stdout",
     "output_type": "stream",
     "text": [
      "Data dimensions:\n",
      "(4734, 28)\n",
      "List of columns:\n",
      "Index(['SE1', 'SE2', 'BA1', 'BA2', 'BA3', 'BA4', 'BA5', 'BA6', 'BA7', 'PE1',\n",
      "       'PE2', 'PE3', 'PE4', 'PE5', 'PE6', 'PE7', 'PE8', 'PE9', 'PE10', 'PE11',\n",
      "       'PE12', 'PE13', 'PE14', 'PE15', 'IA1', 'IA2', 'IA3', 'InvType'],\n",
      "      dtype='object')\n",
      "Dataframe view:\n"
     ]
    },
    {
     "data": {
      "text/html": [
       "<div>\n",
       "<style scoped>\n",
       "    .dataframe tbody tr th:only-of-type {\n",
       "        vertical-align: middle;\n",
       "    }\n",
       "\n",
       "    .dataframe tbody tr th {\n",
       "        vertical-align: top;\n",
       "    }\n",
       "\n",
       "    .dataframe thead th {\n",
       "        text-align: right;\n",
       "    }\n",
       "</style>\n",
       "<table border=\"1\" class=\"dataframe\">\n",
       "  <thead>\n",
       "    <tr style=\"text-align: right;\">\n",
       "      <th></th>\n",
       "      <th>SE1</th>\n",
       "      <th>SE2</th>\n",
       "      <th>BA1</th>\n",
       "      <th>BA2</th>\n",
       "      <th>BA3</th>\n",
       "      <th>BA4</th>\n",
       "      <th>BA5</th>\n",
       "      <th>BA6</th>\n",
       "      <th>BA7</th>\n",
       "      <th>PE1</th>\n",
       "      <th>...</th>\n",
       "      <th>PE10</th>\n",
       "      <th>PE11</th>\n",
       "      <th>PE12</th>\n",
       "      <th>PE13</th>\n",
       "      <th>PE14</th>\n",
       "      <th>PE15</th>\n",
       "      <th>IA1</th>\n",
       "      <th>IA2</th>\n",
       "      <th>IA3</th>\n",
       "      <th>InvType</th>\n",
       "    </tr>\n",
       "  </thead>\n",
       "  <tbody>\n",
       "    <tr>\n",
       "      <th>0</th>\n",
       "      <td>45</td>\n",
       "      <td>G29</td>\n",
       "      <td>12</td>\n",
       "      <td>0.0</td>\n",
       "      <td>5934</td>\n",
       "      <td>0</td>\n",
       "      <td>0</td>\n",
       "      <td>0</td>\n",
       "      <td>0</td>\n",
       "      <td>I0</td>\n",
       "      <td>...</td>\n",
       "      <td>I0</td>\n",
       "      <td>I0</td>\n",
       "      <td>I0</td>\n",
       "      <td>I0</td>\n",
       "      <td>I0</td>\n",
       "      <td>I0</td>\n",
       "      <td>0</td>\n",
       "      <td>0</td>\n",
       "      <td>1</td>\n",
       "      <td>C1</td>\n",
       "    </tr>\n",
       "    <tr>\n",
       "      <th>1</th>\n",
       "      <td>41</td>\n",
       "      <td>G0</td>\n",
       "      <td>0</td>\n",
       "      <td>0.0</td>\n",
       "      <td>21514</td>\n",
       "      <td>316374</td>\n",
       "      <td>5142</td>\n",
       "      <td>0</td>\n",
       "      <td>5141</td>\n",
       "      <td>I0</td>\n",
       "      <td>...</td>\n",
       "      <td>I0</td>\n",
       "      <td>I0</td>\n",
       "      <td>I1</td>\n",
       "      <td>I1</td>\n",
       "      <td>I1</td>\n",
       "      <td>I0</td>\n",
       "      <td>0</td>\n",
       "      <td>0</td>\n",
       "      <td>1</td>\n",
       "      <td>C1</td>\n",
       "    </tr>\n",
       "    <tr>\n",
       "      <th>2</th>\n",
       "      <td>43</td>\n",
       "      <td>G0</td>\n",
       "      <td>1</td>\n",
       "      <td>0.0</td>\n",
       "      <td>14324</td>\n",
       "      <td>22344</td>\n",
       "      <td>22344</td>\n",
       "      <td>0</td>\n",
       "      <td>22344</td>\n",
       "      <td>I0</td>\n",
       "      <td>...</td>\n",
       "      <td>I0</td>\n",
       "      <td>I0</td>\n",
       "      <td>I0</td>\n",
       "      <td>I0</td>\n",
       "      <td>I0</td>\n",
       "      <td>I0</td>\n",
       "      <td>0</td>\n",
       "      <td>0</td>\n",
       "      <td>0</td>\n",
       "      <td>C1</td>\n",
       "    </tr>\n",
       "    <tr>\n",
       "      <th>3</th>\n",
       "      <td>36</td>\n",
       "      <td>G52</td>\n",
       "      <td>16</td>\n",
       "      <td>0.0</td>\n",
       "      <td>41114</td>\n",
       "      <td>2406838</td>\n",
       "      <td>1156219</td>\n",
       "      <td>692875</td>\n",
       "      <td>41425</td>\n",
       "      <td>I0</td>\n",
       "      <td>...</td>\n",
       "      <td>I1</td>\n",
       "      <td>I1</td>\n",
       "      <td>I1</td>\n",
       "      <td>I1</td>\n",
       "      <td>I0</td>\n",
       "      <td>I0</td>\n",
       "      <td>0</td>\n",
       "      <td>0</td>\n",
       "      <td>0</td>\n",
       "      <td>C1</td>\n",
       "    </tr>\n",
       "    <tr>\n",
       "      <th>4</th>\n",
       "      <td>2</td>\n",
       "      <td>G10</td>\n",
       "      <td>0</td>\n",
       "      <td>0.0</td>\n",
       "      <td>2394</td>\n",
       "      <td>621</td>\n",
       "      <td>621</td>\n",
       "      <td>0</td>\n",
       "      <td>621</td>\n",
       "      <td>I0</td>\n",
       "      <td>...</td>\n",
       "      <td>I0</td>\n",
       "      <td>I0</td>\n",
       "      <td>I0</td>\n",
       "      <td>I0</td>\n",
       "      <td>I0</td>\n",
       "      <td>I0</td>\n",
       "      <td>0</td>\n",
       "      <td>0</td>\n",
       "      <td>0</td>\n",
       "      <td>C1</td>\n",
       "    </tr>\n",
       "  </tbody>\n",
       "</table>\n",
       "<p>5 rows × 28 columns</p>\n",
       "</div>"
      ],
      "text/plain": [
       "   SE1  SE2  BA1  BA2    BA3      BA4      BA5     BA6    BA7 PE1  ... PE10  \\\n",
       "0   45  G29   12  0.0   5934        0        0       0      0  I0  ...   I0   \n",
       "1   41   G0    0  0.0  21514   316374     5142       0   5141  I0  ...   I0   \n",
       "2   43   G0    1  0.0  14324    22344    22344       0  22344  I0  ...   I0   \n",
       "3   36  G52   16  0.0  41114  2406838  1156219  692875  41425  I0  ...   I1   \n",
       "4    2  G10    0  0.0   2394      621      621       0    621  I0  ...   I0   \n",
       "\n",
       "  PE11 PE12 PE13 PE14 PE15 IA1 IA2 IA3 InvType  \n",
       "0   I0   I0   I0   I0   I0   0   0   1      C1  \n",
       "1   I0   I1   I1   I1   I0   0   0   1      C1  \n",
       "2   I0   I0   I0   I0   I0   0   0   0      C1  \n",
       "3   I1   I1   I1   I0   I0   0   0   0      C1  \n",
       "4   I0   I0   I0   I0   I0   0   0   0      C1  \n",
       "\n",
       "[5 rows x 28 columns]"
      ]
     },
     "execution_count": 3,
     "metadata": {},
     "output_type": "execute_result"
    }
   ],
   "source": [
    "print(\"Data dimensions:\")\n",
    "print(df.shape)\n",
    "print(\"List of columns:\")\n",
    "print(df.columns)\n",
    "print(\"Dataframe view:\")\n",
    "df.head()"
   ]
  },
  {
   "cell_type": "code",
   "execution_count": 4,
   "metadata": {},
   "outputs": [
    {
     "data": {
      "text/plain": [
       "SE1          int64\n",
       "SE2         object\n",
       "BA1          int64\n",
       "BA2        float64\n",
       "BA3          int64\n",
       "BA4          int64\n",
       "BA5          int64\n",
       "BA6          int64\n",
       "BA7          int64\n",
       "PE1         object\n",
       "PE2         object\n",
       "PE3         object\n",
       "PE4         object\n",
       "PE5         object\n",
       "PE6         object\n",
       "PE7         object\n",
       "PE8         object\n",
       "PE9         object\n",
       "PE10        object\n",
       "PE11        object\n",
       "PE12        object\n",
       "PE13        object\n",
       "PE14        object\n",
       "PE15        object\n",
       "IA1          int64\n",
       "IA2          int64\n",
       "IA3          int64\n",
       "InvType     object\n",
       "dtype: object"
      ]
     },
     "execution_count": 4,
     "metadata": {},
     "output_type": "execute_result"
    }
   ],
   "source": [
    "df.dtypes"
   ]
  },
  {
   "cell_type": "markdown",
   "metadata": {},
   "source": [
    "_**В некотором смысле это кошмар из зоопарка различных типов данных. Потребуется предобработка**_\n",
    "\n",
    "Описание условных обозначений параметров:\n",
    "\n",
    "SE1 (Age) , SE2 (Geographic location) - Customer data\n",
    "\n",
    "BA1 – BA7 – Banking activity , money equivalent for general activities on customer’s bank account in last year , i.e. sum of payments for loan return\n",
    "\n",
    "PE1 – PE15 – Investing history , flag if customer had one of 15 popular investment products/programs in last year\n",
    "\n",
    "IA1 – IA3 – Investing activity , counts for different types of operations on investment accounts in last year"
   ]
  },
  {
   "cell_type": "code",
   "execution_count": 5,
   "metadata": {},
   "outputs": [
    {
     "data": {
      "text/plain": [
       "<AxesSubplot:>"
      ]
     },
     "execution_count": 5,
     "metadata": {},
     "output_type": "execute_result"
    },
    {
     "data": {
      "image/png": "[encoded data removed]",
      "text/plain": [
       "<Figure size 720x432 with 1 Axes>"
      ]
     },
     "metadata": {
      "needs_background": "light"
     },
     "output_type": "display_data"
    }
   ],
   "source": [
    "# Смотрим на наличие пропусков визульно и в буквенно-цифровом исполнении\n",
    "\n",
    "\n",
    "plt.figure(figsize = (10, 6))\n",
    "sns.heatmap(df.isna(), cbar = False, cmap = 'viridis', yticklabels = False)"
   ]
  },
  {
   "cell_type": "code",
   "execution_count": 6,
   "metadata": {},
   "outputs": [
    {
     "name": "stdout",
     "output_type": "stream",
     "text": [
      ">0,  пропуски: 0, процент 0.00\n",
      ">1,  пропуски: 0, процент 0.00\n",
      ">2,  пропуски: 0, процент 0.00\n",
      ">3,  пропуски: 0, процент 0.00\n",
      ">4,  пропуски: 0, процент 0.00\n",
      ">5,  пропуски: 0, процент 0.00\n",
      ">6,  пропуски: 0, процент 0.00\n",
      ">7,  пропуски: 0, процент 0.00\n",
      ">8,  пропуски: 0, процент 0.00\n",
      ">9,  пропуски: 0, процент 0.00\n",
      ">10,  пропуски: 0, процент 0.00\n",
      ">11,  пропуски: 0, процент 0.00\n",
      ">12,  пропуски: 0, процент 0.00\n",
      ">13,  пропуски: 0, процент 0.00\n",
      ">14,  пропуски: 0, процент 0.00\n",
      ">15,  пропуски: 0, процент 0.00\n",
      ">16,  пропуски: 0, процент 0.00\n",
      ">17,  пропуски: 0, процент 0.00\n",
      ">18,  пропуски: 0, процент 0.00\n",
      ">19,  пропуски: 0, процент 0.00\n",
      ">20,  пропуски: 0, процент 0.00\n",
      ">21,  пропуски: 0, процент 0.00\n",
      ">22,  пропуски: 0, процент 0.00\n",
      ">23,  пропуски: 0, процент 0.00\n",
      ">24,  пропуски: 0, процент 0.00\n",
      ">25,  пропуски: 0, процент 0.00\n",
      ">26,  пропуски: 0, процент 0.00\n",
      ">27,  пропуски: 0, процент 0.00\n"
     ]
    }
   ],
   "source": [
    "for i in range(len(df.columns)):\n",
    "    missing_data = df[df.columns[i]].isna().sum()\n",
    "    perc = missing_data / len(df) * 100\n",
    "    print('>%d,  пропуски: %d, процент %.2f' % (i, missing_data, perc))"
   ]
  },
  {
   "cell_type": "markdown",
   "metadata": {},
   "source": [
    "Пропусков нет. Хороший датасет. Спасибо автору."
   ]
  },
  {
   "cell_type": "code",
   "execution_count": 7,
   "metadata": {},
   "outputs": [
    {
     "data": {
      "image/png": "[encoded data removed]",
      "text/plain": [
       "<Figure size 720x720 with 1 Axes>"
      ]
     },
     "metadata": {
      "needs_background": "light"
     },
     "output_type": "display_data"
    }
   ],
   "source": [
    "# распределение предлагаемых пакетов по группам клиентов (как позже выяснилось, пакетов всего 2, но сделаем вид, что мы \n",
    "# пока еще не знаем об этом)\n",
    "\n",
    "target = \"InvType\"\n",
    "fig = plt.figure(figsize=(10,10))\n",
    "sns.set(style=\"darkgrid\")\n",
    "ax = sns.countplot(x = target, data = df).set_title(target + \" \" + \"Распределение\")"
   ]
  },
  {
   "cell_type": "markdown",
   "metadata": {},
   "source": [
    "Примерно равное распределение. Наверное это хорошо."
   ]
  },
  {
   "cell_type": "markdown",
   "metadata": {},
   "source": [
    "_**Предподготовка данных и построение pipeline**_"
   ]
  },
  {
   "cell_type": "code",
   "execution_count": 8,
   "metadata": {},
   "outputs": [
    {
     "name": "stdout",
     "output_type": "stream",
     "text": [
      "model score: 0.678\n",
      "Wall time: 443 ms\n"
     ]
    },
    {
     "data": {
      "text/plain": [
       "[('preprocessor',\n",
       "  ColumnTransformer(transformers=[('num',\n",
       "                                   Pipeline(steps=[('imputer',\n",
       "                                                    SimpleImputer(strategy='median')),\n",
       "                                                   ('scaler', StandardScaler())]),\n",
       "                                   ['SE1', 'BA1', 'BA2', 'BA3', 'BA4', 'BA5',\n",
       "                                    'BA6', 'BA7', 'IA1', 'IA2', 'IA3']),\n",
       "                                  ('cat', OneHotEncoder(handle_unknown='ignore'),\n",
       "                                   ['SE2', 'PE1', 'PE2', 'PE3', 'PE4', 'PE5',\n",
       "                                    'PE6', 'PE7', 'PE8', 'PE9', 'PE10', 'PE11',\n",
       "                                    'PE12', 'PE13', 'PE14', 'PE15'])])),\n",
       " ('classifier', LogisticRegression())]"
      ]
     },
     "execution_count": 8,
     "metadata": {},
     "output_type": "execute_result"
    }
   ],
   "source": [
    "%%time\n",
    "\n",
    "X_train, X_test, y_train, y_test = train_test_split(df, df['InvType'], test_size=0.33, random_state=42)\n",
    "\n",
    "#save test\n",
    "X_test.to_csv(\"E:/GB/MLBiz/Term_paper/X_test.csv\", index=None)\n",
    "y_test.to_csv(\"E:/GB/MLBiz/Term_paper/y_test.csv\", index=None)\n",
    "#save train\n",
    "X_train.to_csv(\"E:/GB/MLBiz/Term_paper/X_train.csv\", index=None)\n",
    "y_train.to_csv(\"E:/GB/MLBiz/Term_paper/y_train.csv\", index=None)\n",
    "\n",
    "\n",
    "numeric_features = ['SE1', 'BA1', 'BA2', 'BA3', 'BA4', 'BA5', 'BA6', 'BA7', 'IA1', 'IA2', 'IA3']\n",
    "numeric_transformer = Pipeline(steps=[\n",
    "    ('imputer', SimpleImputer(strategy='median')),\n",
    "    ('scaler', StandardScaler())])\n",
    "\n",
    "categorical_features = ['SE2', 'PE1', 'PE2', 'PE3', 'PE4', 'PE5', 'PE6', 'PE7', 'PE8', 'PE9', 'PE10', 'PE11', 'PE12', 'PE13',\n",
    "                       'PE14', 'PE15']\n",
    "categorical_transformer = OneHotEncoder(handle_unknown='ignore')\n",
    "\n",
    "preprocessor = ColumnTransformer(\n",
    "    transformers=[\n",
    "        ('num', numeric_transformer, numeric_features),\n",
    "        ('cat', categorical_transformer, categorical_features)])\n",
    "\n",
    "\n",
    "#clf = Pipeline([\n",
    "#    ('preprocessor', preprocessor),\n",
    "#    ('classifier', LogisticRegression()),\n",
    "#])\n",
    "\n",
    "#clf.fit(X_train, y_train)\n",
    "\n",
    "clf = Pipeline(steps=[('preprocessor', preprocessor),\n",
    "                      ('classifier', LogisticRegression())])\n",
    "\n",
    "clf.fit(X_train, y_train)\n",
    "\n",
    "print(\"model score: %.3f\" % clf.score(X_test, y_test))\n",
    "clf.steps"
   ]
  },
  {
   "cell_type": "code",
   "execution_count": 9,
   "metadata": {},
   "outputs": [
    {
     "data": {
      "text/html": [
       "<style>div.sk-top-container {color: black;background-color: white;}div.sk-toggleable {background-color: white;}label.sk-toggleable__label {cursor: pointer;display: block;width: 100%;margin-bottom: 0;padding: 0.2em 0.3em;box-sizing: border-box;text-align: center;}div.sk-toggleable__content {max-height: 0;max-width: 0;overflow: hidden;text-align: left;background-color: #f0f8ff;}div.sk-toggleable__content pre {margin: 0.2em;color: black;border-radius: 0.25em;background-color: #f0f8ff;}input.sk-toggleable__control:checked~div.sk-toggleable__content {max-height: 200px;max-width: 100%;overflow: auto;}div.sk-estimator input.sk-toggleable__control:checked~label.sk-toggleable__label {background-color: #d4ebff;}div.sk-label input.sk-toggleable__control:checked~label.sk-toggleable__label {background-color: #d4ebff;}input.sk-hidden--visually {border: 0;clip: rect(1px 1px 1px 1px);clip: rect(1px, 1px, 1px, 1px);height: 1px;margin: -1px;overflow: hidden;padding: 0;position: absolute;width: 1px;}div.sk-estimator {font-family: monospace;background-color: #f0f8ff;margin: 0.25em 0.25em;border: 1px dotted black;border-radius: 0.25em;box-sizing: border-box;}div.sk-estimator:hover {background-color: #d4ebff;}div.sk-parallel-item::after {content: \"\";width: 100%;border-bottom: 1px solid gray;flex-grow: 1;}div.sk-label:hover label.sk-toggleable__label {background-color: #d4ebff;}div.sk-serial::before {content: \"\";position: absolute;border-left: 1px solid gray;box-sizing: border-box;top: 2em;bottom: 0;left: 50%;}div.sk-serial {display: flex;flex-direction: column;align-items: center;background-color: white;}div.sk-item {z-index: 1;}div.sk-parallel {display: flex;align-items: stretch;justify-content: center;background-color: white;}div.sk-parallel-item {display: flex;flex-direction: column;position: relative;background-color: white;}div.sk-parallel-item:first-child::after {align-self: flex-end;width: 50%;}div.sk-parallel-item:last-child::after {align-self: flex-start;width: 50%;}div.sk-parallel-item:only-child::after {width: 0;}div.sk-dashed-wrapped {border: 1px dashed gray;margin: 0.2em;box-sizing: border-box;padding-bottom: 0.1em;background-color: white;position: relative;}div.sk-label label {font-family: monospace;font-weight: bold;background-color: white;display: inline-block;line-height: 1.2em;}div.sk-label-container {position: relative;z-index: 2;text-align: center;}div.sk-container {display: inline-block;position: relative;}</style><div class=\"sk-top-container\"><div class=\"sk-container\"><div class=\"sk-item sk-dashed-wrapped\"><div class=\"sk-label-container\"><div class=\"sk-label sk-toggleable\"><input class=\"sk-toggleable__control sk-hidden--visually\" id=\"bf9e86aa-3d39-4469-9ced-b28346442e04\" type=\"checkbox\" ><label class=\"sk-toggleable__label\" for=\"bf9e86aa-3d39-4469-9ced-b28346442e04\">Pipeline</label><div class=\"sk-toggleable__content\"><pre>Pipeline(steps=[('preprocessor',\n",
       "                 ColumnTransformer(transformers=[('num',\n",
       "                                                  Pipeline(steps=[('imputer',\n",
       "                                                                   SimpleImputer(strategy='median')),\n",
       "                                                                  ('scaler',\n",
       "                                                                   StandardScaler())]),\n",
       "                                                  ['SE1', 'BA1', 'BA2', 'BA3',\n",
       "                                                   'BA4', 'BA5', 'BA6', 'BA7',\n",
       "                                                   'IA1', 'IA2', 'IA3']),\n",
       "                                                 ('cat',\n",
       "                                                  OneHotEncoder(handle_unknown='ignore'),\n",
       "                                                  ['SE2', 'PE1', 'PE2', 'PE3',\n",
       "                                                   'PE4', 'PE5', 'PE6', 'PE7',\n",
       "                                                   'PE8', 'PE9', 'PE10', 'PE11',\n",
       "                                                   'PE12', 'PE13', 'PE14',\n",
       "                                                   'PE15'])])),\n",
       "                ('classifier', LogisticRegression())])</pre></div></div></div><div class=\"sk-serial\"><div class=\"sk-item sk-dashed-wrapped\"><div class=\"sk-label-container\"><div class=\"sk-label sk-toggleable\"><input class=\"sk-toggleable__control sk-hidden--visually\" id=\"f275aaa7-721b-4fc8-9bae-fef27d9f80e4\" type=\"checkbox\" ><label class=\"sk-toggleable__label\" for=\"f275aaa7-721b-4fc8-9bae-fef27d9f80e4\">preprocessor: ColumnTransformer</label><div class=\"sk-toggleable__content\"><pre>ColumnTransformer(transformers=[('num',\n",
       "                                 Pipeline(steps=[('imputer',\n",
       "                                                  SimpleImputer(strategy='median')),\n",
       "                                                 ('scaler', StandardScaler())]),\n",
       "                                 ['SE1', 'BA1', 'BA2', 'BA3', 'BA4', 'BA5',\n",
       "                                  'BA6', 'BA7', 'IA1', 'IA2', 'IA3']),\n",
       "                                ('cat', OneHotEncoder(handle_unknown='ignore'),\n",
       "                                 ['SE2', 'PE1', 'PE2', 'PE3', 'PE4', 'PE5',\n",
       "                                  'PE6', 'PE7', 'PE8', 'PE9', 'PE10', 'PE11',\n",
       "                                  'PE12', 'PE13', 'PE14', 'PE15'])])</pre></div></div></div><div class=\"sk-parallel\"><div class=\"sk-parallel-item\"><div class=\"sk-item\"><div class=\"sk-label-container\"><div class=\"sk-label sk-toggleable\"><input class=\"sk-toggleable__control sk-hidden--visually\" id=\"27db8374-360a-4501-ae01-dfd41e5ac7b0\" type=\"checkbox\" ><label class=\"sk-toggleable__label\" for=\"27db8374-360a-4501-ae01-dfd41e5ac7b0\">num</label><div class=\"sk-toggleable__content\"><pre>['SE1', 'BA1', 'BA2', 'BA3', 'BA4', 'BA5', 'BA6', 'BA7', 'IA1', 'IA2', 'IA3']</pre></div></div></div><div class=\"sk-serial\"><div class=\"sk-item\"><div class=\"sk-serial\"><div class=\"sk-item\"><div class=\"sk-estimator sk-toggleable\"><input class=\"sk-toggleable__control sk-hidden--visually\" id=\"d0806610-d2fc-4b54-b3bc-cff85abe8707\" type=\"checkbox\" ><label class=\"sk-toggleable__label\" for=\"d0806610-d2fc-4b54-b3bc-cff85abe8707\">SimpleImputer</label><div class=\"sk-toggleable__content\"><pre>SimpleImputer(strategy='median')</pre></div></div></div><div class=\"sk-item\"><div class=\"sk-estimator sk-toggleable\"><input class=\"sk-toggleable__control sk-hidden--visually\" id=\"83bf0681-0f37-4555-986b-23cdf921b943\" type=\"checkbox\" ><label class=\"sk-toggleable__label\" for=\"83bf0681-0f37-4555-986b-23cdf921b943\">StandardScaler</label><div class=\"sk-toggleable__content\"><pre>StandardScaler()</pre></div></div></div></div></div></div></div></div><div class=\"sk-parallel-item\"><div class=\"sk-item\"><div class=\"sk-label-container\"><div class=\"sk-label sk-toggleable\"><input class=\"sk-toggleable__control sk-hidden--visually\" id=\"648e6b8f-ac1d-4a6c-aa63-a608b76d0047\" type=\"checkbox\" ><label class=\"sk-toggleable__label\" for=\"648e6b8f-ac1d-4a6c-aa63-a608b76d0047\">cat</label><div class=\"sk-toggleable__content\"><pre>['SE2', 'PE1', 'PE2', 'PE3', 'PE4', 'PE5', 'PE6', 'PE7', 'PE8', 'PE9', 'PE10', 'PE11', 'PE12', 'PE13', 'PE14', 'PE15']</pre></div></div></div><div class=\"sk-serial\"><div class=\"sk-item\"><div class=\"sk-estimator sk-toggleable\"><input class=\"sk-toggleable__control sk-hidden--visually\" id=\"117a5613-9d30-4a04-9b97-5cfd880d30b1\" type=\"checkbox\" ><label class=\"sk-toggleable__label\" for=\"117a5613-9d30-4a04-9b97-5cfd880d30b1\">OneHotEncoder</label><div class=\"sk-toggleable__content\"><pre>OneHotEncoder(handle_unknown='ignore')</pre></div></div></div></div></div></div></div></div><div class=\"sk-item\"><div class=\"sk-estimator sk-toggleable\"><input class=\"sk-toggleable__control sk-hidden--visually\" id=\"40d18c95-b6ca-4ac2-b823-cfbbf01b9434\" type=\"checkbox\" ><label class=\"sk-toggleable__label\" for=\"40d18c95-b6ca-4ac2-b823-cfbbf01b9434\">LogisticRegression</label><div class=\"sk-toggleable__content\"><pre>LogisticRegression()</pre></div></div></div></div></div></div></div>"
      ],
      "text/plain": [
       "Pipeline(steps=[('preprocessor',\n",
       "                 ColumnTransformer(transformers=[('num',\n",
       "                                                  Pipeline(steps=[('imputer',\n",
       "                                                                   SimpleImputer(strategy='median')),\n",
       "                                                                  ('scaler',\n",
       "                                                                   StandardScaler())]),\n",
       "                                                  ['SE1', 'BA1', 'BA2', 'BA3',\n",
       "                                                   'BA4', 'BA5', 'BA6', 'BA7',\n",
       "                                                   'IA1', 'IA2', 'IA3']),\n",
       "                                                 ('cat',\n",
       "                                                  OneHotEncoder(handle_unknown='ignore'),\n",
       "                                                  ['SE2', 'PE1', 'PE2', 'PE3',\n",
       "                                                   'PE4', 'PE5', 'PE6', 'PE7',\n",
       "                                                   'PE8', 'PE9', 'PE10', 'PE11',\n",
       "                                                   'PE12', 'PE13', 'PE14',\n",
       "                                                   'PE15'])])),\n",
       "                ('classifier', LogisticRegression())])"
      ]
     },
     "execution_count": 9,
     "metadata": {},
     "output_type": "execute_result"
    }
   ],
   "source": [
    "# лучше смотреть на картинку pipeline, потому что так нагляднее\n",
    "\n",
    "from sklearn import set_config\n",
    "\n",
    "set_config(display='diagram')\n",
    "clf"
   ]
  },
  {
   "cell_type": "code",
   "execution_count": 10,
   "metadata": {},
   "outputs": [],
   "source": [
    "with open(\"E:/GB/MLBiz/Term_paper/logreg_pipeline.dill\", \"wb\") as f:\n",
    "    dill.dump(clf, f)"
   ]
  }
 ],
 "metadata": {
  "kernelspec": {
   "display_name": "Python 3",
   "language": "python",
   "name": "python3"
  },
  "language_info": {
   "codemirror_mode": {
    "name": "ipython",
    "version": 3
   },
   "file_extension": ".py",
   "mimetype": "text/x-python",
   "name": "python",
   "nbconvert_exporter": "python",
   "pygments_lexer": "ipython3",
   "version": "3.8.5"
  }
 },
 "nbformat": 4,
 "nbformat_minor": 1
}
